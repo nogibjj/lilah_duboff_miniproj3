{
 "cells": [
  {
   "cell_type": "code",
   "execution_count": 2,
   "metadata": {},
   "outputs": [
    {
     "name": "stdout",
     "output_type": "stream",
     "text": [
      "shape: (5, 12)\n",
      "┌──────┬──────┬───────────┬────────┬───┬─────┬─────────┬─────┬───────┐\n",
      "│ id   ┆ date ┆ gestation ┆ bwt.oz ┆ … ┆ mht ┆ mpregwt ┆ inc ┆ smoke │\n",
      "│ ---  ┆ ---  ┆ ---       ┆ ---    ┆   ┆ --- ┆ ---     ┆ --- ┆ ---   │\n",
      "│ i64  ┆ i64  ┆ i64       ┆ i64    ┆   ┆ i64 ┆ i64     ┆ i64 ┆ i64   │\n",
      "╞══════╪══════╪═══════════╪════════╪═══╪═════╪═════════╪═════╪═══════╡\n",
      "│ 4604 ┆ 1598 ┆ 148       ┆ 116    ┆ … ┆ 66  ┆ 135     ┆ 2   ┆ 0     │\n",
      "│ 7435 ┆ 1527 ┆ 181       ┆ 110    ┆ … ┆ 64  ┆ 133     ┆ 1   ┆ 0     │\n",
      "│ 7722 ┆ 1563 ┆ 204       ┆ 55     ┆ … ┆ 65  ┆ 140     ┆ 6   ┆ 0     │\n",
      "│ 2026 ┆ 1503 ┆ 225       ┆ 132    ┆ … ┆ 67  ┆ 148     ┆ 3   ┆ 0     │\n",
      "│ 3553 ┆ 1638 ┆ 233       ┆ 105    ┆ … ┆ 61  ┆ 130     ┆ 3   ┆ 0     │\n",
      "└──────┴──────┴───────────┴────────┴───┴─────┴─────────┴─────┴───────┘\n"
     ]
    }
   ],
   "source": [
    "import matplotlib.pyplot as plt\n",
    "import polars as pl\n",
    "\n",
    "csv_url = \"https://media.githubusercontent.com/media/nickeubank/MIDS_Data/refs/heads/master/smoking.csv\"\n",
    "data = pl.read_csv(csv_url)\n",
    "print(data.head())\n"
   ]
  }
 ],
 "metadata": {
  "kernelspec": {
   "display_name": "base",
   "language": "python",
   "name": "python3"
  },
  "language_info": {
   "codemirror_mode": {
    "name": "ipython",
    "version": 3
   },
   "file_extension": ".py",
   "mimetype": "text/x-python",
   "name": "python",
   "nbconvert_exporter": "python",
   "pygments_lexer": "ipython3",
   "version": "3.12.5"
  }
 },
 "nbformat": 4,
 "nbformat_minor": 2
}
